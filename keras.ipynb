{
  "nbformat": 4,
  "nbformat_minor": 0,
  "metadata": {
    "colab": {
      "name": "keras",
      "version": "0.3.2",
      "provenance": [],
      "collapsed_sections": [],
      "include_colab_link": true
    },
    "kernelspec": {
      "name": "python3",
      "display_name": "Python 3"
    },
    "accelerator": "GPU"
  },
  "cells": [
    {
      "cell_type": "markdown",
      "metadata": {
        "id": "view-in-github",
        "colab_type": "text"
      },
      "source": [
        "<a href=\"https://colab.research.google.com/github/AUnzhakova/Orbit7/blob/master/keras.ipynb\" target=\"_parent\"><img src=\"https://colab.research.google.com/assets/colab-badge.svg\" alt=\"Open In Colab\"/></a>"
      ]
    },
    {
      "metadata": {
        "id": "ZO4aJZrMgisb",
        "colab_type": "code",
        "outputId": "68aede16-b23d-4bbd-de61-0a0df6b47090",
        "colab": {
          "base_uri": "https://localhost:8080/",
          "height": 194
        }
      },
      "cell_type": "code",
      "source": [
        "from keras.preprocessing import image\n",
        "from keras.models import Model\n",
        "from keras.layers import Dense, GlobalAveragePooling2D\n",
        "from keras import applications\n",
        "from keras.preprocessing.image import ImageDataGenerator\n",
        "from keras import optimizers\n",
        "from keras.models import Sequential\n",
        "from keras.layers import Dropout, Flatten, Dense\n",
        "from keras.models import Model"
      ],
      "execution_count": 3,
      "outputs": [
        {
          "output_type": "stream",
          "text": [
            "Using TensorFlow backend.\n"
          ],
          "name": "stderr"
        }
      ]
    },
    {
      "metadata": {
        "id": "W3SYqMmzp0K4",
        "colab_type": "code",
        "outputId": "f2fdc963-b5af-45be-a83b-29e03b70905c",
        "colab": {
          "base_uri": "https://localhost:8080/",
          "height": 307
        }
      },
      "cell_type": "code",
      "source": [
        "from google.colab import drive\n",
        "drive.mount('/content/gdrive', force_remount = True)\n",
        "root_path = 'gdrive/My Drive/snacks/'"
      ],
      "execution_count": 4,
      "outputs": [
        {
          "output_type": "stream",
          "text": [
            "Go to this URL in a browser: https://accounts.google.com/o/oauth2/auth?client_id=947318989803-6bn6qk8qdgf4n4g3pfee6491hc0brc4i.apps.googleusercontent.com&redirect_uri=urn%3Aietf%3Awg%3Aoauth%3A2.0%3Aoob&scope=email%20https%3A%2F%2Fwww.googleapis.com%2Fauth%2Fdocs.test%20https%3A%2F%2Fwww.googleapis.com%2Fauth%2Fdrive%20https%3A%2F%2Fwww.googleapis.com%2Fauth%2Fdrive.photos.readonly%20https%3A%2F%2Fwww.googleapis.com%2Fauth%2Fpeopleapi.readonly&response_type=code\n",
            "\n",
            "Enter your authorization code:\n",
            "··········\n",
            "Mounted at /content/gdrive\n"
          ],
          "name": "stdout"
        }
      ]
    },
    {
      "metadata": {
        "id": "sQRRZwJduNeM",
        "colab_type": "code",
        "colab": {}
      },
      "cell_type": "code",
      "source": [
        "# Размер изображений\n",
        "img_width, img_height = 150, 150\n",
        "# Путь к каталогу с изображениями для обучения\n",
        "train_data_dir = 'train'\n",
        "# Путь к каталогу с изображениями для валидации\n",
        "validation_data_dir = 'val'\n",
        "# Количество изображений для обучения\n",
        "nb_train_samples = 4838\n",
        "# Количество изображений для валидации\n",
        "nb_validation_samples = 955\n",
        "# Количество эпох\n",
        "epochs = 5\n",
        "# Размер выборки\n",
        "batch_size = 16"
      ],
      "execution_count": 0,
      "outputs": []
    },
    {
      "metadata": {
        "id": "CuW9LtzkunDQ",
        "colab_type": "code",
        "colab": {}
      },
      "cell_type": "code",
      "source": [
        "# Загружаем сеть VGG16 без части, которая отвечает за классификацию\n",
        "base_model = applications.VGG16(weights='imagenet', include_top=False)"
      ],
      "execution_count": 0,
      "outputs": []
    },
    {
      "metadata": {
        "id": "6qeOdp6lutSQ",
        "colab_type": "code",
        "colab": {}
      },
      "cell_type": "code",
      "source": [
        "# Добавляем слои классификации\n",
        "x = base_model.output\n",
        "x = GlobalAveragePooling2D()(x)\n",
        "x = Dense(1024, activation='relu')(x)\n",
        "# Выходной слой с двадцатью нейронами для классов\n",
        "predictions = Dense(20, activation='softmax')(x)"
      ],
      "execution_count": 0,
      "outputs": []
    },
    {
      "metadata": {
        "id": "cA5YGe5nu5eg",
        "colab_type": "code",
        "colab": {}
      },
      "cell_type": "code",
      "source": [
        "# Составляем сеть из двух частей\n",
        "model = Model(inputs=base_model.input, outputs=predictions)"
      ],
      "execution_count": 0,
      "outputs": []
    },
    {
      "metadata": {
        "id": "erfH6NnMu8pT",
        "colab_type": "code",
        "colab": {}
      },
      "cell_type": "code",
      "source": [
        "# \"Замораживаем\" сверточные уровни сети VGG16\n",
        "# Обучаем только вновь добавленные слои\n",
        "for layer in base_model.layers:\n",
        "    layer.trainable = False"
      ],
      "execution_count": 0,
      "outputs": []
    },
    {
      "metadata": {
        "id": "Vm10JRe3vCet",
        "colab_type": "code",
        "colab": {}
      },
      "cell_type": "code",
      "source": [
        "# Компилируем модель\n",
        "model.compile(optimizer='rmsprop', loss='categorical_crossentropy', metrics=['accuracy'])"
      ],
      "execution_count": 0,
      "outputs": []
    },
    {
      "metadata": {
        "id": "fqa2psxswu8W",
        "colab_type": "code",
        "outputId": "e461ba4d-8312-44bb-aef3-7c3713dd1f4f",
        "colab": {
          "base_uri": "https://localhost:8080/",
          "height": 261
        }
      },
      "cell_type": "code",
      "source": [
        "!ls "
      ],
      "execution_count": 32,
      "outputs": [
        {
          "output_type": "stream",
          "text": [
            " bin\t   lib\t\t\t\t\t        opt\t     srv\n",
            " boot\t   lib32\t\t\t\t        proc\t     swift\n",
            " content   lib64\t\t\t\t        root\t     sys\n",
            " datalab   __MACOSX\t\t\t\t        run\t     tmp\n",
            " dev\t   media\t\t\t\t        sbin\t     tools\n",
            " etc\t   mnt\t\t\t\t\t        snacks\t     usr\n",
            " home\t  'open?id=1BgkDtaplk6dw0b65C9RczKzYdkZuIe9R'   snacks.zip   var\n"
          ],
          "name": "stdout"
        }
      ]
    },
    {
      "metadata": {
        "id": "tbekiFa6vFHD",
        "colab_type": "code",
        "outputId": "d03f6e14-3cad-4c21-aa53-13812b0f8463",
        "colab": {
          "base_uri": "https://localhost:8080/",
          "height": 94
        }
      },
      "cell_type": "code",
      "source": [
        "# Создаем генератор данных для обучения\n",
        "datagen = ImageDataGenerator(rescale=1. / 255)\n",
        "train_generator = datagen.flow_from_directory(\n",
        "    train_data_dir,\n",
        "    target_size=(img_width, img_height),\n",
        "    batch_size=batch_size,\n",
        "    class_mode= 'categorical')"
      ],
      "execution_count": 45,
      "outputs": [
        {
          "output_type": "stream",
          "text": [
            "Found 4838 images belonging to 20 classes.\n"
          ],
          "name": "stdout"
        }
      ]
    },
    {
      "metadata": {
        "id": "qqPsD4s1yopt",
        "colab_type": "code",
        "colab": {
          "base_uri": "https://localhost:8080/",
          "height": 94
        },
        "outputId": "ecad1929-3533-4a0b-c577-9cf4f04eecb0"
      },
      "cell_type": "code",
      "source": [
        "# Создаем генератор данных для валидации\n",
        "validation_generator = datagen.flow_from_directory(\n",
        "    validation_data_dir,\n",
        "    target_size=(img_width, img_height),\n",
        "    batch_size=batch_size,\n",
        "    class_mode= 'categorical')"
      ],
      "execution_count": 46,
      "outputs": [
        {
          "output_type": "stream",
          "text": [
            "Found 955 images belonging to 20 classes.\n"
          ],
          "name": "stdout"
        }
      ]
    },
    {
      "metadata": {
        "id": "7CD3UPI72cFU",
        "colab_type": "code",
        "colab": {
          "base_uri": "https://localhost:8080/",
          "height": 1020
        },
        "outputId": "e2a0d0ff-5a34-4c02-f71b-afa7835cf01a"
      },
      "cell_type": "code",
      "source": [
        "!wget https://wolverine.raywenderlich.com/books/mlt/snacks.zip"
      ],
      "execution_count": 26,
      "outputs": [
        {
          "output_type": "stream",
          "text": [
            "--2019-04-21 17:15:34--  https://wolverine.raywenderlich.com/books/mlt/snacks.zip\n",
            "Resolving wolverine.raywenderlich.com (wolverine.raywenderlich.com)... 13.249.87.8, 13.249.87.117, 13.249.87.64, ...\n",
            "Connecting to wolverine.raywenderlich.com (wolverine.raywenderlich.com)|13.249.87.8|:443... connected.\n",
            "HTTP request sent, awaiting response... 200 OK\n",
            "Length: 110589632 (105M) [application/zip]\n",
            "Saving to: ‘snacks.zip’\n",
            "\n",
            "snacks.zip          100%[===================>] 105.47M  11.0MB/s    in 12s     \n",
            "\n",
            "2019-04-21 17:15:47 (8.64 MB/s) - ‘snacks.zip’ saved [110589632/110589632]\n",
            "\n"
          ],
          "name": "stdout"
        }
      ]
    },
    {
      "metadata": {
        "id": "4USLZa4a78p5",
        "colab_type": "code",
        "colab": {
          "base_uri": "https://localhost:8080/",
          "height": 206
        },
        "outputId": "3200e837-5269-4104-e19c-b6ab06a930a6"
      },
      "cell_type": "code",
      "source": [
        "ls"
      ],
      "execution_count": 42,
      "outputs": [
        {
          "output_type": "stream",
          "text": [
            "annotations-test.csv   annotations-val.csv  README.txt  \u001b[0m\u001b[01;34mtrain\u001b[0m/\n",
            "annotations-train.csv  credits.csv          \u001b[01;34mtest\u001b[0m/       \u001b[01;34mval\u001b[0m/\n"
          ],
          "name": "stdout"
        }
      ]
    },
    {
      "metadata": {
        "id": "q5pL7MGM7amG",
        "colab_type": "code",
        "colab": {
          "base_uri": "https://localhost:8080/",
          "height": 246
        },
        "outputId": "ccfacb6e-a6b0-4161-dff5-fe6bfe9c7153"
      },
      "cell_type": "code",
      "source": [
        "!pip install -U -q PyDrive"
      ],
      "execution_count": 33,
      "outputs": [
        {
          "output_type": "stream",
          "text": [
            "\u001b[?25l\r\u001b[K    1% |▎                               | 10kB 29.2MB/s eta 0:00:01\r\u001b[K    2% |▋                               | 20kB 2.1MB/s eta 0:00:01\r\u001b[K    3% |█                               | 30kB 3.1MB/s eta 0:00:01\r\u001b[K    4% |█▎                              | 40kB 2.0MB/s eta 0:00:01\r\u001b[K    5% |█▋                              | 51kB 2.5MB/s eta 0:00:01\r\u001b[K    6% |██                              | 61kB 3.0MB/s eta 0:00:01\r\u001b[K    7% |██▎                             | 71kB 3.4MB/s eta 0:00:01\r\u001b[K    8% |██▋                             | 81kB 3.9MB/s eta 0:00:01\r\u001b[K    9% |███                             | 92kB 4.4MB/s eta 0:00:01\r\u001b[K    10% |███▎                            | 102kB 3.3MB/s eta 0:00:01\r\u001b[K    11% |███▋                            | 112kB 3.4MB/s eta 0:00:01\r\u001b[K    12% |████                            | 122kB 4.8MB/s eta 0:00:01\r\u001b[K    13% |████▎                           | 133kB 4.8MB/s eta 0:00:01\r\u001b[K    14% |████▋                           | 143kB 9.0MB/s eta 0:00:01\r\u001b[K    15% |█████                           | 153kB 9.1MB/s eta 0:00:01\r\u001b[K    16% |█████▎                          | 163kB 9.1MB/s eta 0:00:01\r\u001b[K    17% |█████▋                          | 174kB 9.2MB/s eta 0:00:01\r\u001b[K    18% |██████                          | 184kB 9.3MB/s eta 0:00:01\r\u001b[K    19% |██████▎                         | 194kB 9.3MB/s eta 0:00:01\r\u001b[K    20% |██████▋                         | 204kB 50.2MB/s eta 0:00:01\r\u001b[K    21% |███████                         | 215kB 10.1MB/s eta 0:00:01\r\u001b[K    22% |███████▎                        | 225kB 10.1MB/s eta 0:00:01\r\u001b[K    23% |███████▋                        | 235kB 10.2MB/s eta 0:00:01\r\u001b[K    24% |████████                        | 245kB 10.1MB/s eta 0:00:01\r\u001b[K    25% |████████▎                       | 256kB 10.1MB/s eta 0:00:01\r\u001b[K    26% |████████▋                       | 266kB 9.9MB/s eta 0:00:01\r\u001b[K    27% |█████████                       | 276kB 10.0MB/s eta 0:00:01\r\u001b[K    29% |█████████▎                      | 286kB 10.0MB/s eta 0:00:01\r\u001b[K    30% |█████████▋                      | 296kB 10.0MB/s eta 0:00:01\r\u001b[K    31% |██████████                      | 307kB 10.3MB/s eta 0:00:01\r\u001b[K    32% |██████████▎                     | 317kB 61.4MB/s eta 0:00:01\r\u001b[K    33% |██████████▋                     | 327kB 63.2MB/s eta 0:00:01\r\u001b[K    34% |███████████                     | 337kB 66.6MB/s eta 0:00:01\r\u001b[K    35% |███████████▎                    | 348kB 57.5MB/s eta 0:00:01\r\u001b[K    36% |███████████▋                    | 358kB 57.4MB/s eta 0:00:01\r\u001b[K    37% |████████████                    | 368kB 67.9MB/s eta 0:00:01\r\u001b[K    38% |████████████▎                   | 378kB 67.9MB/s eta 0:00:01\r\u001b[K    39% |████████████▋                   | 389kB 66.5MB/s eta 0:00:01\r\u001b[K    40% |█████████████                   | 399kB 11.3MB/s eta 0:00:01\r\u001b[K    41% |█████████████▎                  | 409kB 11.2MB/s eta 0:00:01\r\u001b[K    42% |█████████████▋                  | 419kB 11.1MB/s eta 0:00:01\r\u001b[K    43% |██████████████                  | 430kB 11.0MB/s eta 0:00:01\r\u001b[K    44% |██████████████▎                 | 440kB 11.0MB/s eta 0:00:01\r\u001b[K    45% |██████████████▋                 | 450kB 11.2MB/s eta 0:00:01\r\u001b[K    46% |███████████████                 | 460kB 11.2MB/s eta 0:00:01\r\u001b[K    47% |███████████████▎                | 471kB 11.2MB/s eta 0:00:01\r\u001b[K    48% |███████████████▋                | 481kB 11.2MB/s eta 0:00:01\r\u001b[K    49% |████████████████                | 491kB 11.3MB/s eta 0:00:01\r\u001b[K    50% |████████████████▎               | 501kB 64.2MB/s eta 0:00:01\r\u001b[K    51% |████████████████▋               | 512kB 62.3MB/s eta 0:00:01\r\u001b[K    52% |█████████████████               | 522kB 65.3MB/s eta 0:00:01\r\u001b[K    53% |█████████████████▎              | 532kB 69.1MB/s eta 0:00:01\r\u001b[K    54% |█████████████████▋              | 542kB 69.7MB/s eta 0:00:01\r\u001b[K    55% |██████████████████              | 552kB 78.4MB/s eta 0:00:01\r\u001b[K    57% |██████████████████▎             | 563kB 80.0MB/s eta 0:00:01\r\u001b[K    58% |██████████████████▋             | 573kB 79.0MB/s eta 0:00:01\r\u001b[K    59% |███████████████████             | 583kB 80.1MB/s eta 0:00:01\r\u001b[K    60% |███████████████████▎            | 593kB 80.4MB/s eta 0:00:01\r\u001b[K    61% |███████████████████▋            | 604kB 81.8MB/s eta 0:00:01\r\u001b[K    62% |████████████████████            | 614kB 92.1MB/s eta 0:00:01\r\u001b[K    63% |████████████████████▎           | 624kB 91.9MB/s eta 0:00:01\r\u001b[K    64% |████████████████████▋           | 634kB 92.2MB/s eta 0:00:01\r\u001b[K    65% |█████████████████████           | 645kB 12.0MB/s eta 0:00:01\r\u001b[K    66% |█████████████████████▎          | 655kB 11.8MB/s eta 0:00:01\r\u001b[K    67% |█████████████████████▋          | 665kB 11.0MB/s eta 0:00:01\r\u001b[K    68% |██████████████████████          | 675kB 11.0MB/s eta 0:00:01\r\u001b[K    69% |██████████████████████▎         | 686kB 11.0MB/s eta 0:00:01\r\u001b[K    70% |██████████████████████▋         | 696kB 11.0MB/s eta 0:00:01\r\u001b[K    71% |███████████████████████         | 706kB 10.9MB/s eta 0:00:01\r\u001b[K    72% |███████████████████████▎        | 716kB 11.0MB/s eta 0:00:01\r\u001b[K    73% |███████████████████████▋        | 727kB 11.0MB/s eta 0:00:01\r\u001b[K    74% |████████████████████████        | 737kB 10.9MB/s eta 0:00:01\r\u001b[K    75% |████████████████████████▎       | 747kB 52.3MB/s eta 0:00:01\r\u001b[K    76% |████████████████████████▋       | 757kB 56.0MB/s eta 0:00:01\r\u001b[K    77% |████████████████████████▉       | 768kB 86.3MB/s eta 0:00:01\r\u001b[K    78% |█████████████████████████▏      | 778kB 90.6MB/s eta 0:00:01\r\u001b[K    79% |█████████████████████████▌      | 788kB 89.1MB/s eta 0:00:01\r\u001b[K    80% |█████████████████████████▉      | 798kB 90.6MB/s eta 0:00:01\r\u001b[K    81% |██████████████████████████▏     | 808kB 91.7MB/s eta 0:00:01\r\u001b[K    82% |██████████████████████████▌     | 819kB 89.5MB/s eta 0:00:01\r\u001b[K    83% |██████████████████████████▉     | 829kB 91.0MB/s eta 0:00:01\r\u001b[K    85% |███████████████████████████▏    | 839kB 91.9MB/s eta 0:00:01\r\u001b[K    86% |███████████████████████████▌    | 849kB 92.0MB/s eta 0:00:01\r\u001b[K    87% |███████████████████████████▉    | 860kB 78.4MB/s eta 0:00:01\r\u001b[K    88% |████████████████████████████▏   | 870kB 76.3MB/s eta 0:00:01\r\u001b[K    89% |████████████████████████████▌   | 880kB 76.9MB/s eta 0:00:01\r\u001b[K    90% |████████████████████████████▉   | 890kB 77.3MB/s eta 0:00:01\r\u001b[K    91% |█████████████████████████████▏  | 901kB 76.2MB/s eta 0:00:01\r\u001b[K    92% |█████████████████████████████▌  | 911kB 76.6MB/s eta 0:00:01\r\u001b[K    93% |█████████████████████████████▉  | 921kB 78.3MB/s eta 0:00:01\r\u001b[K    94% |██████████████████████████████▏ | 931kB 79.2MB/s eta 0:00:01\r\u001b[K    95% |██████████████████████████████▌ | 942kB 79.6MB/s eta 0:00:01\r\u001b[K    96% |██████████████████████████████▉ | 952kB 78.8MB/s eta 0:00:01\r\u001b[K    97% |███████████████████████████████▏| 962kB 93.7MB/s eta 0:00:01\r\u001b[K    98% |███████████████████████████████▌| 972kB 96.8MB/s eta 0:00:01\r\u001b[K    99% |███████████████████████████████▉| 983kB 94.7MB/s eta 0:00:01\r\u001b[K    100% |████████████████████████████████| 993kB 24.6MB/s \n",
            "\u001b[?25h  Building wheel for PyDrive (setup.py) ... \u001b[?25ldone\n",
            "\u001b[?25h"
          ],
          "name": "stdout"
        }
      ]
    },
    {
      "metadata": {
        "id": "qnrKaM2B7bLa",
        "colab_type": "code",
        "colab": {
          "base_uri": "https://localhost:8080/",
          "height": 114
        },
        "outputId": "4c3e5ab6-d5fb-4a6e-da15-973d0a0c6192"
      },
      "cell_type": "code",
      "source": [
        "import zipfile, os\n",
        "print (\"Uncompressing zip file\")\n",
        "zip_ref = zipfile.ZipFile('snacks.zip', 'r')\n",
        "zip_ref.extractall('SNACK/')\n",
        "zip_ref.close()"
      ],
      "execution_count": 35,
      "outputs": [
        {
          "output_type": "stream",
          "text": [
            "Uncompressing zip file\n"
          ],
          "name": "stdout"
        }
      ]
    },
    {
      "metadata": {
        "id": "HUWBbb1m8RJw",
        "colab_type": "code",
        "colab": {
          "base_uri": "https://localhost:8080/",
          "height": 1020
        },
        "outputId": "c93bd127-5e39-479f-cf1e-f42f233e38cc"
      },
      "cell_type": "code",
      "source": [
        "# Обучаем модель с помощью генератора\n",
        "model.fit_generator(\n",
        "    train_generator,\n",
        "    steps_per_epoch=nb_train_samples,\n",
        "    epochs=epochs,\n",
        "    validation_data=validation_generator,\n",
        "    validation_steps = nb_validation_samples)"
      ],
      "execution_count": 47,
      "outputs": [
        {
          "output_type": "stream",
          "text": [
            "Epoch 1/5\n",
            "4838/4838 [==============================] - 269s 56ms/step - loss: 0.9635 - acc: 0.7051 - val_loss: 2.3654 - val_acc: 0.5069\n",
            "Epoch 2/5\n",
            "4838/4838 [==============================] - 268s 55ms/step - loss: 0.0944 - acc: 0.9772 - val_loss: 3.8307 - val_acc: 0.4813\n",
            "Epoch 3/5\n",
            "4838/4838 [==============================] - 267s 55ms/step - loss: 0.0203 - acc: 0.9945 - val_loss: 4.4767 - val_acc: 0.4921\n",
            "Epoch 4/5\n",
            "4838/4838 [==============================] - 269s 56ms/step - loss: 0.0139 - acc: 0.9960 - val_loss: 4.8051 - val_acc: 0.4982\n",
            "Epoch 5/5\n",
            "4838/4838 [==============================] - 268s 55ms/step - loss: 0.0126 - acc: 0.9965 - val_loss: 5.1831 - val_acc: 0.4830\n"
          ],
          "name": "stdout"
        },
        {
          "output_type": "execute_result",
          "data": {
            "text/plain": [
              "<keras.callbacks.History at 0x7f5af124d978>"
            ]
          },
          "metadata": {
            "tags": []
          },
          "execution_count": 47
        }
      ]
    }
  ]
}