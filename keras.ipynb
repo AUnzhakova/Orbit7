{
  "nbformat": 4,
  "nbformat_minor": 0,
  "metadata": {
    "colab": {
      "name": "keras",
      "version": "0.3.2",
      "provenance": [],
      "collapsed_sections": [],
      "include_colab_link": true
    },
    "kernelspec": {
      "name": "python3",
      "display_name": "Python 3"
    },
    "accelerator": "GPU"
  },
  "cells": [
    {
      "cell_type": "markdown",
      "metadata": {
        "id": "view-in-github",
        "colab_type": "text"
      },
      "source": [
        "<a href=\"https://colab.research.google.com/github/AUnzhakova/Orbit7/blob/master/keras.ipynb\" target=\"_parent\"><img src=\"https://colab.research.google.com/assets/colab-badge.svg\" alt=\"Open In Colab\"/></a>"
      ]
    },
    {
      "metadata": {
        "id": "ZO4aJZrMgisb",
        "colab_type": "code",
        "outputId": "84cc8342-fe9f-4db7-c746-43625ca7fa77",
        "colab": {
          "base_uri": "https://localhost:8080/",
          "height": 94
        }
      },
      "cell_type": "code",
      "source": [
        "from keras.preprocessing import image\n",
        "from keras.models import Model\n",
        "from keras.layers import Dense, GlobalAveragePooling2D\n",
        "from keras import applications\n",
        "from keras.preprocessing.image import ImageDataGenerator\n",
        "from keras import optimizers\n",
        "from keras.models import Sequential\n",
        "from keras.layers import Dropout, Flatten, Dense\n",
        "from keras.models import Model"
      ],
      "execution_count": 2,
      "outputs": [
        {
          "output_type": "stream",
          "text": [
            "Using TensorFlow backend.\n"
          ],
          "name": "stderr"
        }
      ]
    },
    {
      "metadata": {
        "id": "sQRRZwJduNeM",
        "colab_type": "code",
        "colab": {}
      },
      "cell_type": "code",
      "source": [
        "# Размер изображений\n",
        "img_width, img_height = 150, 150\n",
        "# Путь к каталогу с изображениями для обучения\n",
        "train_data_dir = 'train'\n",
        "# Путь к каталогу с изображениями для валидации\n",
        "validation_data_dir = 'val'\n",
        "# Количество изображений для обучения\n",
        "nb_train_samples = 4838\n",
        "# Количество изображений для валидации\n",
        "nb_validation_samples = 955\n",
        "# Количество эпох\n",
        "epochs = 30\n",
        "# Размер выборки\n",
        "batch_size = 16"
      ],
      "execution_count": 0,
      "outputs": []
    },
    {
      "metadata": {
        "id": "CuW9LtzkunDQ",
        "colab_type": "code",
        "outputId": "da53915b-17f0-4363-eb53-04925e92e762",
        "colab": {
          "base_uri": "https://localhost:8080/",
          "height": 260
        }
      },
      "cell_type": "code",
      "source": [
        "# Загружаем сеть VGG16 без части, которая отвечает за классификацию\n",
        "base_model = applications.VGG16(weights='imagenet', include_top=False)"
      ],
      "execution_count": 5,
      "outputs": [
        {
          "output_type": "stream",
          "text": [
            "WARNING:tensorflow:From /usr/local/lib/python3.6/dist-packages/tensorflow/python/framework/op_def_library.py:263: colocate_with (from tensorflow.python.framework.ops) is deprecated and will be removed in a future version.\n",
            "Instructions for updating:\n",
            "Colocations handled automatically by placer.\n",
            "Downloading data from https://github.com/fchollet/deep-learning-models/releases/download/v0.1/vgg16_weights_tf_dim_ordering_tf_kernels_notop.h5\n",
            "58892288/58889256 [==============================] - 1s 0us/step\n"
          ],
          "name": "stdout"
        }
      ]
    },
    {
      "metadata": {
        "id": "6qeOdp6lutSQ",
        "colab_type": "code",
        "colab": {}
      },
      "cell_type": "code",
      "source": [
        "# Добавляем слои классификации\n",
        "x = base_model.output\n",
        "x = GlobalAveragePooling2D()(x)\n",
        "x = Dense(1024, activation='relu')(x)\n",
        "# Выходной слой с двадцатью нейронами для классов\n",
        "predictions = Dense(20, activation='softmax')(x)"
      ],
      "execution_count": 0,
      "outputs": []
    },
    {
      "metadata": {
        "id": "cA5YGe5nu5eg",
        "colab_type": "code",
        "colab": {}
      },
      "cell_type": "code",
      "source": [
        "# Составляем сеть из двух частей\n",
        "model = Model(inputs=base_model.input, outputs=predictions)"
      ],
      "execution_count": 0,
      "outputs": []
    },
    {
      "metadata": {
        "id": "erfH6NnMu8pT",
        "colab_type": "code",
        "colab": {}
      },
      "cell_type": "code",
      "source": [
        "# \"Замораживаем\" сверточные уровни сети VGG16\n",
        "# Обучаем только вновь добавленные слои\n",
        "for layer in base_model.layers:\n",
        "    layer.trainable = False"
      ],
      "execution_count": 0,
      "outputs": []
    },
    {
      "metadata": {
        "id": "Vm10JRe3vCet",
        "colab_type": "code",
        "colab": {}
      },
      "cell_type": "code",
      "source": [
        "# Компилируем модель\n",
        "model.compile(optimizer='rmsprop', loss='categorical_crossentropy', metrics=['accuracy'])"
      ],
      "execution_count": 0,
      "outputs": []
    },
    {
      "metadata": {
        "id": "fqa2psxswu8W",
        "colab_type": "code",
        "outputId": "d7ee1212-06ee-454d-8b54-075ab1370136",
        "colab": {
          "base_uri": "https://localhost:8080/",
          "height": 186
        }
      },
      "cell_type": "code",
      "source": [
        "!ls "
      ],
      "execution_count": 20,
      "outputs": [
        {
          "output_type": "stream",
          "text": [
            "annotations-test.csv   annotations-val.csv  README.txt\ttrain\n",
            "annotations-train.csv  credits.csv\t    test\tval\n"
          ],
          "name": "stdout"
        }
      ]
    },
    {
      "metadata": {
        "id": "tbekiFa6vFHD",
        "colab_type": "code",
        "outputId": "821aecd1-b13b-4d26-cf44-9d71e62f0826",
        "colab": {
          "base_uri": "https://localhost:8080/",
          "height": 74
        }
      },
      "cell_type": "code",
      "source": [
        "# Создаем генератор данных для обучения\n",
        "datagen = ImageDataGenerator(rescale=1. / 255)\n",
        "train_generator = datagen.flow_from_directory(\n",
        "    train_data_dir,\n",
        "    target_size=(img_width, img_height),\n",
        "    batch_size=batch_size,\n",
        "    class_mode= 'categorical')"
      ],
      "execution_count": 22,
      "outputs": [
        {
          "output_type": "stream",
          "text": [
            "Found 4838 images belonging to 20 classes.\n"
          ],
          "name": "stdout"
        }
      ]
    },
    {
      "metadata": {
        "id": "qqPsD4s1yopt",
        "colab_type": "code",
        "colab": {
          "base_uri": "https://localhost:8080/",
          "height": 74
        },
        "outputId": "d2116fc2-69ca-4a89-98a9-98234b4172bb"
      },
      "cell_type": "code",
      "source": [
        "# Создаем генератор данных для валидации\n",
        "validation_generator = datagen.flow_from_directory(\n",
        "    validation_data_dir,\n",
        "    target_size=(img_width, img_height),\n",
        "    batch_size=batch_size,\n",
        "    class_mode= 'categorical')"
      ],
      "execution_count": 23,
      "outputs": [
        {
          "output_type": "stream",
          "text": [
            "Found 955 images belonging to 20 classes.\n"
          ],
          "name": "stdout"
        }
      ]
    },
    {
      "metadata": {
        "id": "7CD3UPI72cFU",
        "colab_type": "code",
        "colab": {
          "base_uri": "https://localhost:8080/",
          "height": 261
        },
        "outputId": "3db18e09-b589-48cb-95ed-f4f65cd0094a"
      },
      "cell_type": "code",
      "source": [
        "!wget https://wolverine.raywenderlich.com/books/mlt/snacks.zip"
      ],
      "execution_count": 10,
      "outputs": [
        {
          "output_type": "stream",
          "text": [
            "--2019-04-22 06:09:30--  https://wolverine.raywenderlich.com/books/mlt/snacks.zip\n",
            "Resolving wolverine.raywenderlich.com (wolverine.raywenderlich.com)... 99.84.168.77, 99.84.168.126, 99.84.168.78, ...\n",
            "Connecting to wolverine.raywenderlich.com (wolverine.raywenderlich.com)|99.84.168.77|:443... connected.\n",
            "HTTP request sent, awaiting response... 200 OK\n",
            "Length: 110589632 (105M) [application/zip]\n",
            "Saving to: ‘snacks.zip’\n",
            "\n",
            "snacks.zip          100%[===================>] 105.47M  81.2MB/s    in 1.3s    \n",
            "\n",
            "2019-04-22 06:09:32 (81.2 MB/s) - ‘snacks.zip’ saved [110589632/110589632]\n",
            "\n"
          ],
          "name": "stdout"
        }
      ]
    },
    {
      "metadata": {
        "id": "4USLZa4a78p5",
        "colab_type": "code",
        "colab": {
          "base_uri": "https://localhost:8080/",
          "height": 74
        },
        "outputId": "5ee12d2a-5c5f-40cf-b904-11ca313b8d52"
      },
      "cell_type": "code",
      "source": [
        "%cd snacks"
      ],
      "execution_count": 16,
      "outputs": [
        {
          "output_type": "stream",
          "text": [
            "/content/SNACK/snacks\n"
          ],
          "name": "stdout"
        }
      ]
    },
    {
      "metadata": {
        "id": "q5pL7MGM7amG",
        "colab_type": "code",
        "colab": {
          "base_uri": "https://localhost:8080/",
          "height": 226
        },
        "outputId": "2e32c77e-a5cf-479f-f574-d79288128710"
      },
      "cell_type": "code",
      "source": [
        "!pip install -U -q PyDrive"
      ],
      "execution_count": 11,
      "outputs": [
        {
          "output_type": "stream",
          "text": [
            "\u001b[?25l\r\u001b[K    1% |▎                               | 10kB 22.4MB/s eta 0:00:01\r\u001b[K    2% |▋                               | 20kB 2.2MB/s eta 0:00:01\r\u001b[K    3% |█                               | 30kB 3.2MB/s eta 0:00:01\r\u001b[K    4% |█▎                              | 40kB 2.1MB/s eta 0:00:01\r\u001b[K    5% |█▋                              | 51kB 2.6MB/s eta 0:00:01\r\u001b[K    6% |██                              | 61kB 3.1MB/s eta 0:00:01\r\u001b[K    7% |██▎                             | 71kB 3.5MB/s eta 0:00:01\r\u001b[K    8% |██▋                             | 81kB 4.0MB/s eta 0:00:01\r\u001b[K    9% |███                             | 92kB 4.4MB/s eta 0:00:01\r\u001b[K    10% |███▎                            | 102kB 3.4MB/s eta 0:00:01\r\u001b[K    11% |███▋                            | 112kB 3.4MB/s eta 0:00:01\r\u001b[K    12% |████                            | 122kB 4.9MB/s eta 0:00:01\r\u001b[K    13% |████▎                           | 133kB 4.8MB/s eta 0:00:01\r\u001b[K    14% |████▋                           | 143kB 9.1MB/s eta 0:00:01\r\u001b[K    15% |█████                           | 153kB 9.2MB/s eta 0:00:01\r\u001b[K    16% |█████▎                          | 163kB 9.1MB/s eta 0:00:01\r\u001b[K    17% |█████▋                          | 174kB 9.2MB/s eta 0:00:01\r\u001b[K    18% |██████                          | 184kB 9.3MB/s eta 0:00:01\r\u001b[K    19% |██████▎                         | 194kB 9.3MB/s eta 0:00:01\r\u001b[K    20% |██████▋                         | 204kB 44.7MB/s eta 0:00:01\r\u001b[K    21% |███████                         | 215kB 10.3MB/s eta 0:00:01\r\u001b[K    22% |███████▎                        | 225kB 10.3MB/s eta 0:00:01\r\u001b[K    23% |███████▋                        | 235kB 10.4MB/s eta 0:00:01\r\u001b[K    24% |████████                        | 245kB 10.3MB/s eta 0:00:01\r\u001b[K    25% |████████▎                       | 256kB 10.3MB/s eta 0:00:01\r\u001b[K    26% |████████▋                       | 266kB 10.0MB/s eta 0:00:01\r\u001b[K    27% |█████████                       | 276kB 10.1MB/s eta 0:00:01\r\u001b[K    29% |█████████▎                      | 286kB 10.1MB/s eta 0:00:01\r\u001b[K    30% |█████████▋                      | 296kB 10.0MB/s eta 0:00:01\r\u001b[K    31% |██████████                      | 307kB 10.4MB/s eta 0:00:01\r\u001b[K    32% |██████████▎                     | 317kB 50.8MB/s eta 0:00:01\r\u001b[K    33% |██████████▋                     | 327kB 51.1MB/s eta 0:00:01\r\u001b[K    34% |███████████                     | 337kB 52.0MB/s eta 0:00:01\r\u001b[K    35% |███████████▎                    | 348kB 45.8MB/s eta 0:00:01\r\u001b[K    36% |███████████▋                    | 358kB 45.9MB/s eta 0:00:01\r\u001b[K    37% |████████████                    | 368kB 54.5MB/s eta 0:00:01\r\u001b[K    38% |████████████▎                   | 378kB 54.6MB/s eta 0:00:01\r\u001b[K    39% |████████████▋                   | 389kB 55.0MB/s eta 0:00:01\r\u001b[K    40% |█████████████                   | 399kB 11.8MB/s eta 0:00:01\r\u001b[K    41% |█████████████▎                  | 409kB 11.7MB/s eta 0:00:01\r\u001b[K    42% |█████████████▋                  | 419kB 11.7MB/s eta 0:00:01\r\u001b[K    43% |██████████████                  | 430kB 11.7MB/s eta 0:00:01\r\u001b[K    44% |██████████████▎                 | 440kB 11.7MB/s eta 0:00:01\r\u001b[K    45% |██████████████▋                 | 450kB 12.0MB/s eta 0:00:01\r\u001b[K    46% |███████████████                 | 460kB 12.0MB/s eta 0:00:01\r\u001b[K    47% |███████████████▎                | 471kB 12.0MB/s eta 0:00:01\r\u001b[K    48% |███████████████▋                | 481kB 12.0MB/s eta 0:00:01\r\u001b[K    49% |████████████████                | 491kB 12.0MB/s eta 0:00:01\r\u001b[K    50% |████████████████▎               | 501kB 58.5MB/s eta 0:00:01\r\u001b[K    51% |████████████████▋               | 512kB 56.1MB/s eta 0:00:01\r\u001b[K    52% |█████████████████               | 522kB 57.4MB/s eta 0:00:01\r\u001b[K    53% |█████████████████▎              | 532kB 60.2MB/s eta 0:00:01\r\u001b[K    54% |█████████████████▋              | 542kB 60.1MB/s eta 0:00:01\r\u001b[K    55% |██████████████████              | 552kB 66.5MB/s eta 0:00:01\r\u001b[K    57% |██████████████████▎             | 563kB 67.3MB/s eta 0:00:01\r\u001b[K    58% |██████████████████▋             | 573kB 66.1MB/s eta 0:00:01\r\u001b[K    59% |███████████████████             | 583kB 66.4MB/s eta 0:00:01\r\u001b[K    60% |███████████████████▎            | 593kB 66.7MB/s eta 0:00:01\r\u001b[K    61% |███████████████████▋            | 604kB 67.4MB/s eta 0:00:01\r\u001b[K    62% |████████████████████            | 614kB 75.1MB/s eta 0:00:01\r\u001b[K    63% |████████████████████▎           | 624kB 71.2MB/s eta 0:00:01\r\u001b[K    64% |████████████████████▋           | 634kB 70.5MB/s eta 0:00:01\r\u001b[K    65% |█████████████████████           | 645kB 70.4MB/s eta 0:00:01\r\u001b[K    66% |█████████████████████▎          | 655kB 69.3MB/s eta 0:00:01\r\u001b[K    67% |█████████████████████▋          | 665kB 49.7MB/s eta 0:00:01\r\u001b[K    68% |██████████████████████          | 675kB 13.5MB/s eta 0:00:01\r\u001b[K    69% |██████████████████████▎         | 686kB 13.3MB/s eta 0:00:01\r\u001b[K    70% |██████████████████████▋         | 696kB 13.3MB/s eta 0:00:01\r\u001b[K    71% |███████████████████████         | 706kB 13.1MB/s eta 0:00:01\r\u001b[K    72% |███████████████████████▎        | 716kB 13.1MB/s eta 0:00:01\r\u001b[K    73% |███████████████████████▋        | 727kB 13.2MB/s eta 0:00:01\r\u001b[K    74% |████████████████████████        | 737kB 13.1MB/s eta 0:00:01\r\u001b[K    75% |████████████████████████▎       | 747kB 13.1MB/s eta 0:00:01\r\u001b[K    76% |████████████████████████▋       | 757kB 13.1MB/s eta 0:00:01\r\u001b[K    77% |████████████████████████▉       | 768kB 14.2MB/s eta 0:00:01\r\u001b[K    78% |█████████████████████████▏      | 778kB 63.4MB/s eta 0:00:01\r\u001b[K    79% |█████████████████████████▌      | 788kB 68.3MB/s eta 0:00:01\r\u001b[K    80% |█████████████████████████▉      | 798kB 70.4MB/s eta 0:00:01\r\u001b[K    81% |██████████████████████████▏     | 808kB 75.9MB/s eta 0:00:01\r\u001b[K    82% |██████████████████████████▌     | 819kB 77.4MB/s eta 0:00:01\r\u001b[K    83% |██████████████████████████▉     | 829kB 81.5MB/s eta 0:00:01\r\u001b[K    85% |███████████████████████████▏    | 839kB 87.5MB/s eta 0:00:01\r\u001b[K    86% |███████████████████████████▌    | 849kB 88.3MB/s eta 0:00:01\r\u001b[K    87% |███████████████████████████▉    | 860kB 74.9MB/s eta 0:00:01\r\u001b[K    88% |████████████████████████████▏   | 870kB 73.8MB/s eta 0:00:01\r\u001b[K    89% |████████████████████████████▌   | 880kB 72.2MB/s eta 0:00:01\r\u001b[K    90% |████████████████████████████▉   | 890kB 71.3MB/s eta 0:00:01\r\u001b[K    91% |█████████████████████████████▏  | 901kB 70.0MB/s eta 0:00:01\r\u001b[K    92% |█████████████████████████████▌  | 911kB 70.4MB/s eta 0:00:01\r\u001b[K    93% |█████████████████████████████▉  | 921kB 70.3MB/s eta 0:00:01\r\u001b[K    94% |██████████████████████████████▏ | 931kB 68.4MB/s eta 0:00:01\r\u001b[K    95% |██████████████████████████████▌ | 942kB 67.6MB/s eta 0:00:01\r\u001b[K    96% |██████████████████████████████▉ | 952kB 66.2MB/s eta 0:00:01\r\u001b[K    97% |███████████████████████████████▏| 962kB 75.4MB/s eta 0:00:01\r\u001b[K    98% |███████████████████████████████▌| 972kB 76.8MB/s eta 0:00:01\r\u001b[K    99% |███████████████████████████████▉| 983kB 76.6MB/s eta 0:00:01\r\u001b[K    100% |████████████████████████████████| 993kB 22.5MB/s \n",
            "\u001b[?25h  Building wheel for PyDrive (setup.py) ... \u001b[?25ldone\n",
            "\u001b[?25h"
          ],
          "name": "stdout"
        }
      ]
    },
    {
      "metadata": {
        "id": "qnrKaM2B7bLa",
        "colab_type": "code",
        "colab": {
          "base_uri": "https://localhost:8080/",
          "height": 94
        },
        "outputId": "284d59d9-4163-4574-bdf9-0c4f7d903090"
      },
      "cell_type": "code",
      "source": [
        "import zipfile, os\n",
        "print (\"Uncompressing zip file\")\n",
        "zip_ref = zipfile.ZipFile('snacks.zip', 'r')\n",
        "zip_ref.extractall('SNACK/')\n",
        "zip_ref.close()"
      ],
      "execution_count": 12,
      "outputs": [
        {
          "output_type": "stream",
          "text": [
            "Uncompressing zip file\n"
          ],
          "name": "stdout"
        }
      ]
    },
    {
      "metadata": {
        "id": "HUWBbb1m8RJw",
        "colab_type": "code",
        "colab": {
          "base_uri": "https://localhost:8080/",
          "height": 1020
        },
        "outputId": "16bb275f-eabf-4df3-bfcb-ec9dd4b93a61"
      },
      "cell_type": "code",
      "source": [
        "# Обучаем модель с помощью генератора\n",
        "model.fit_generator(\n",
        "    train_generator,\n",
        "    steps_per_epoch=nb_train_samples,\n",
        "    epochs=epochs,\n",
        "    validation_data=validation_generator,\n",
        "    validation_steps = nb_validation_samples)"
      ],
      "execution_count": 0,
      "outputs": [
        {
          "output_type": "stream",
          "text": [
            "WARNING:tensorflow:From /usr/local/lib/python3.6/dist-packages/tensorflow/python/ops/math_ops.py:3066: to_int32 (from tensorflow.python.ops.math_ops) is deprecated and will be removed in a future version.\n",
            "Instructions for updating:\n",
            "Use tf.cast instead.\n",
            "Epoch 1/30\n",
            "4838/4838 [==============================] - 281s 58ms/step - loss: 1.0037 - acc: 0.6920 - val_loss: 2.4823 - val_acc: 0.4735\n",
            "Epoch 2/30\n",
            "4838/4838 [==============================] - 272s 56ms/step - loss: 0.0989 - acc: 0.9742 - val_loss: 3.5327 - val_acc: 0.5049\n",
            "Epoch 3/30\n",
            "4838/4838 [==============================] - 271s 56ms/step - loss: 0.0202 - acc: 0.9943 - val_loss: 4.4082 - val_acc: 0.4841\n",
            "Epoch 4/30\n",
            "4838/4838 [==============================] - 271s 56ms/step - loss: 0.0151 - acc: 0.9956 - val_loss: 4.9354 - val_acc: 0.4853\n",
            "Epoch 5/30\n",
            "4838/4838 [==============================] - 272s 56ms/step - loss: 0.0151 - acc: 0.9957 - val_loss: 5.3510 - val_acc: 0.4872\n",
            "Epoch 6/30\n",
            "4838/4838 [==============================] - 271s 56ms/step - loss: 0.0137 - acc: 0.9961 - val_loss: 5.5051 - val_acc: 0.4810\n",
            "Epoch 7/30\n",
            "4838/4838 [==============================] - 273s 56ms/step - loss: 0.0126 - acc: 0.9967 - val_loss: 6.2956 - val_acc: 0.4476\n",
            "Epoch 8/30\n",
            "4838/4838 [==============================] - 271s 56ms/step - loss: 0.0126 - acc: 0.9966 - val_loss: 5.8497 - val_acc: 0.4821\n",
            "Epoch 9/30\n",
            "4838/4838 [==============================] - 272s 56ms/step - loss: 0.0126 - acc: 0.9967 - val_loss: 5.7953 - val_acc: 0.4861\n",
            "Epoch 10/30\n",
            "4838/4838 [==============================] - 272s 56ms/step - loss: 0.0118 - acc: 0.9971 - val_loss: 5.9390 - val_acc: 0.4799\n",
            "Epoch 11/30\n",
            "4838/4838 [==============================] - 271s 56ms/step - loss: 0.0118 - acc: 0.9969 - val_loss: 6.0650 - val_acc: 0.4825\n",
            "Epoch 12/30\n",
            "4838/4838 [==============================] - 271s 56ms/step - loss: 0.0143 - acc: 0.9965 - val_loss: 6.2159 - val_acc: 0.4786\n",
            "Epoch 13/30\n",
            "4838/4838 [==============================] - 272s 56ms/step - loss: 0.0133 - acc: 0.9967 - val_loss: 6.1294 - val_acc: 0.5017\n",
            "Epoch 14/30\n",
            "4838/4838 [==============================] - 272s 56ms/step - loss: 0.0126 - acc: 0.9970 - val_loss: 6.2157 - val_acc: 0.4911\n",
            "Epoch 15/30\n",
            "4838/4838 [==============================] - 272s 56ms/step - loss: 0.0140 - acc: 0.9971 - val_loss: 6.2037 - val_acc: 0.4786\n",
            "Epoch 16/30\n",
            "4838/4838 [==============================] - 278s 57ms/step - loss: 0.0115 - acc: 0.9973 - val_loss: 6.6994 - val_acc: 0.4640\n",
            "Epoch 17/30\n",
            "4838/4838 [==============================] - 273s 56ms/step - loss: 0.0107 - acc: 0.9972 - val_loss: 6.5614 - val_acc: 0.4728\n",
            "Epoch 18/30\n",
            "4838/4838 [==============================] - 274s 57ms/step - loss: 0.0107 - acc: 0.9976 - val_loss: 6.6358 - val_acc: 0.4580\n",
            "Epoch 19/30\n",
            "4838/4838 [==============================] - 273s 56ms/step - loss: 0.0114 - acc: 0.9976 - val_loss: 6.3082 - val_acc: 0.4874\n",
            "Epoch 20/30\n",
            "4838/4838 [==============================] - 273s 56ms/step - loss: 0.0097 - acc: 0.9977 - val_loss: 6.5025 - val_acc: 0.4839\n",
            "Epoch 21/30\n",
            "4838/4838 [==============================] - 272s 56ms/step - loss: 0.0101 - acc: 0.9980 - val_loss: 6.6115 - val_acc: 0.4939\n",
            "Epoch 22/30\n",
            "1548/4838 [========>.....................] - ETA: 2:36 - loss: 0.0078 - acc: 0.9984Buffered data was truncated after reaching the output size limit."
          ],
          "name": "stdout"
        }
      ]
    }
  ]
}